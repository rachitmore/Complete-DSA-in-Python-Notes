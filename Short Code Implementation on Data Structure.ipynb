{
 "cells": [
  {
   "cell_type": "markdown",
   "id": "34e7a6b1",
   "metadata": {},
   "source": [
    "### 1. Arrays\n",
    "\n",
    "Definition: A collection of elements, each identified by an index or key.\n",
    "\n",
    "Characteristics: Fixed size, elements stored in contiguous memory locations, can be accessed directly via their index.\n",
    "\n",
    "Visualization\n",
    "Visualize an array as a sequence of boxes lined up in a row, each containing an element.\n",
    "\n",
    "\n",
    "Solve Problems\n",
    "Example: Find the maximum value in an array.\n",
    "Solution: Iterate through the array, keeping track of the maximum value encountered.\n"
   ]
  },
  {
   "cell_type": "code",
   "execution_count": 1,
   "id": "7fa3bbc2",
   "metadata": {},
   "outputs": [
    {
     "name": "stdout",
     "output_type": "stream",
     "text": [
      "3\n"
     ]
    },
    {
     "data": {
      "text/plain": [
       "10"
      ]
     },
     "execution_count": 1,
     "metadata": {},
     "output_type": "execute_result"
    }
   ],
   "source": [
    "# Create an array\n",
    "arr = [1, 2, 3, 4, 5]\n",
    "\n",
    "# Access an element\n",
    "print(arr[2])  # Output: 3\n",
    "\n",
    "# Update an element\n",
    "arr[2] = 10\n",
    "\n",
    "# Append an element\n",
    "arr.append(6)\n",
    "\n",
    "# Delete an element\n",
    "arr.pop(2)"
   ]
  },
  {
   "cell_type": "markdown",
   "id": "ad85dd7d",
   "metadata": {},
   "source": [
    "### 2. Linked Lists\n",
    "\n",
    "Definition: A linear data structure where elements are stored in nodes, with each node pointing to the next.\n",
    "\n",
    "Characteristics: Dynamic size, elements can be easily inserted or removed, but direct access by index is not possible.\n",
    "\n",
    "Visualization\n",
    "Visualize a linked list as a series of nodes connected by pointers, where each node contains a data element and a reference to the next node.\n",
    "\n",
    "Solve Problems\n",
    "Example: Reverse a linked list.\n",
    "Solution: Traverse the list and reverse the direction of the pointers.\n"
   ]
  },
  {
   "cell_type": "code",
   "execution_count": 2,
   "id": "47b74d1d",
   "metadata": {},
   "outputs": [],
   "source": [
    "class Node:\n",
    "    def __init__(self, data):\n",
    "        self.data = data\n",
    "        self.next = None\n",
    "\n",
    "class LinkedList:\n",
    "    def __init__(self):\n",
    "        self.head = None\n",
    "\n",
    "    def append(self, data):\n",
    "        new_node = Node(data)\n",
    "        if not self.head:\n",
    "            self.head = new_node\n",
    "            return\n",
    "        last = self.head\n",
    "        while last.next:\n",
    "            last = last.next\n",
    "        last.next = new_node\n",
    "\n",
    "    def print_list(self):\n",
    "        current = self.head\n",
    "        while current:\n",
    "            print(current.data, end=\" -> \")\n",
    "            current = current.next\n",
    "        print(None)"
   ]
  },
  {
   "cell_type": "markdown",
   "id": "7b371e61",
   "metadata": {},
   "source": [
    "### 3. Stacks\n",
    "\n",
    "Definition: A linear data structure that follows the Last In, First Out (LIFO) principle.\n",
    "\n",
    "Characteristics: Supports two main operations: push (insert) and pop (remove).\n",
    "\n",
    "Visualization\n",
    "Visualize a stack as a collection of elements stacked on top of each other, where only the top element is accessible.\n",
    "\n",
    "\n",
    "Solve Problems\n",
    "Example: Check for balanced parentheses in an expression.\n",
    "Solution: Use a stack to track opening and closing parentheses.\n"
   ]
  },
  {
   "cell_type": "code",
   "execution_count": 3,
   "id": "367ae1b3",
   "metadata": {},
   "outputs": [],
   "source": [
    "class Stack:\n",
    "    def __init__(self):\n",
    "        self.stack = []\n",
    "\n",
    "    def push(self, item):\n",
    "        self.stack.append(item)\n",
    "\n",
    "    def pop(self):\n",
    "        if not self.is_empty():\n",
    "            return self.stack.pop()\n",
    "\n",
    "    def is_empty(self):\n",
    "        return len(self.stack) == 0\n",
    "\n",
    "    def peek(self):\n",
    "        if not self.is_empty():\n",
    "            return self.stack[-1]"
   ]
  },
  {
   "cell_type": "markdown",
   "id": "39535f36",
   "metadata": {},
   "source": [
    "### 4. Queues\n",
    "\n",
    "Definition: A linear data structure that follows the First In, First Out (FIFO) principle.\n",
    "\n",
    "Characteristics: Supports two main operations: enqueue (insert) and dequeue (remove).\n",
    "\n",
    "Visualization\n",
    "Visualize a queue as a line of people where the first person in line is served first.\n",
    "\n",
    "Solve Problems\n",
    "Example: Implement a queue using two stacks.\n",
    "Solution: Use one stack for enqueue operations and another for dequeue operations.\n"
   ]
  },
  {
   "cell_type": "code",
   "execution_count": 4,
   "id": "7acea269",
   "metadata": {},
   "outputs": [],
   "source": [
    "class Queue:\n",
    "    def __init__(self):\n",
    "        self.queue = []\n",
    "\n",
    "    def enqueue(self, item):\n",
    "        self.queue.append(item)\n",
    "\n",
    "    def dequeue(self):\n",
    "        if not self.is_empty():\n",
    "            return self.queue.pop(0)\n",
    "\n",
    "    def is_empty(self):\n",
    "        return len(self.queue) == 0"
   ]
  },
  {
   "cell_type": "markdown",
   "id": "f95c0637",
   "metadata": {},
   "source": [
    "### 5. Trees\n",
    "Definition: A hierarchical data structure consisting of nodes, with a single root node and sub-nodes forming a tree-like structure.\n",
    "\n",
    "Characteristics: Nodes are connected by edges, each node has a parent and children, except the root.\n",
    "\n",
    "Visualization\n",
    "Visualize a tree as an upside-down tree, with the root at the top and branches extending downward.\n",
    "\n",
    "Solve Problems\n",
    "Example: Traverse a tree (e.g., preorder, inorder, postorder traversal).\n",
    "Solution: Use recursive functions to visit nodes in the desired order."
   ]
  },
  {
   "cell_type": "code",
   "execution_count": 5,
   "id": "31ae06b2",
   "metadata": {},
   "outputs": [],
   "source": [
    "class TreeNode:\n",
    "    def __init__(self, data):\n",
    "        self.data = data\n",
    "        self.children = []\n",
    "\n",
    "    def add_child(self, child):\n",
    "        self.children.append(child)"
   ]
  },
  {
   "cell_type": "markdown",
   "id": "411ff3a7",
   "metadata": {},
   "source": [
    "### 6. Binary Search Trees (BST)\n",
    "\n",
    "Definition: A type of binary tree where each node has at most two children, and the left child's value is less than the parent, while the right child's value is greater.\n",
    "\n",
    "Characteristics: Efficient for search operations, with time complexity O(log n) in the average case.\n",
    "\n",
    "Visualization\n",
    "Visualize a BST as a binary tree with ordered nodes, where left nodes are smaller and right nodes are larger.\n",
    "\n",
    "\n",
    "Solve Problems\n",
    "Example: Search for a value in a BST.\n",
    "Solution: Traverse the tree, comparing the target value with node values, moving left or right accordingly.\n"
   ]
  },
  {
   "cell_type": "code",
   "execution_count": 6,
   "id": "4230016a",
   "metadata": {},
   "outputs": [],
   "source": [
    "class BSTNode:\n",
    "    def __init__(self, data):\n",
    "        self.data = data\n",
    "        self.left = None\n",
    "        self.right = None\n",
    "\n",
    "    def insert(self, data):\n",
    "        if data < self.data:\n",
    "            if self.left is None:\n",
    "                self.left = BSTNode(data)\n",
    "            else:\n",
    "                self.left.insert(data)\n",
    "        else:\n",
    "            if self.right is None:\n",
    "                self.right = BSTNode(data)\n",
    "            else:\n",
    "                self.right.insert(data)"
   ]
  },
  {
   "cell_type": "markdown",
   "id": "94fd9328",
   "metadata": {},
   "source": [
    "### 7. Heaps\n",
    "\n",
    "Definition: A special tree-based data structure where the tree is a complete binary tree, and each node's value is greater than or equal to its children (max-heap) or less than or equal to its children (min-heap).\n",
    "\n",
    "Characteristics: Efficient for priority queue operations, with O(log n) time complexity for insertions and deletions.\n",
    "\n",
    "Visualization\n",
    "Visualize a heap as a binary tree with the root being the maximum (max-heap) or minimum (min-heap) value.\n",
    "\n",
    "\n",
    "Solve Problems\n",
    "Example: Implement a max-heap.\n",
    "Solution: Modify the comparison operation to maintain the max-heap property.\n"
   ]
  },
  {
   "cell_type": "code",
   "execution_count": 7,
   "id": "47d2343b",
   "metadata": {},
   "outputs": [],
   "source": [
    "import heapq\n",
    "\n",
    "# Create a min-heap\n",
    "heap = []\n",
    "\n",
    "# Insert elements\n",
    "heapq.heappush(heap, 10)\n",
    "heapq.heappush(heap, 1)\n",
    "heapq.heappush(heap, 5)\n",
    "\n",
    "# Extract the minimum element\n",
    "min_element = heapq.heappop(heap)"
   ]
  },
  {
   "cell_type": "markdown",
   "id": "4a6ab022",
   "metadata": {},
   "source": [
    "### 8. Graphs\n",
    "Basic Concepts\n",
    "\n",
    "Definition: A collection of nodes (vertices) connected by edges, which can be directed or undirected.\n",
    "\n",
    "Characteristics: Useful for representing relationships, with applications in social networks, navigation, etc.\n",
    "\n",
    "Visualization\n",
    "Visualize a graph as a collection of points (vertices) connected by lines (edges).\n",
    "\n",
    "Solve Problems\n",
    "Example: Implement BFS and DFS.\n",
    "Solution: Use a queue for BFS and a stack for DFS.\n"
   ]
  },
  {
   "cell_type": "code",
   "execution_count": 8,
   "id": "c698fd27",
   "metadata": {},
   "outputs": [],
   "source": [
    "class Graph:\n",
    "    def __init__(self):\n",
    "        self.graph = {}\n",
    "\n",
    "    def add_edge(self, u, v):\n",
    "        if u not in self.graph:\n",
    "            self.graph[u] = []\n",
    "        self.graph[u].append(v)\n",
    "\n",
    "    def print_graph(self):\n",
    "        for node in self.graph:\n",
    "            print(f\"{node}: {self.graph[node]}\")"
   ]
  },
  {
   "cell_type": "markdown",
   "id": "007539e5",
   "metadata": {},
   "source": [
    "### 9. Hash Tables\n",
    "\n",
    "Definition: A data structure that maps keys to values using a hash function.\n",
    "\n",
    "Characteristics: Provides average O(1) time complexity for search, insert, and delete operations.\n",
    "\n",
    "Visualization\n",
    "Visualize a hash table as an array where each index corresponds to a key, and the array stores the associated values.\n",
    "\n",
    "\n",
    "Solve Problems\n",
    "Example: Implement a hash table with collision handling (e.g., chaining).\n",
    "Solution: Use linked lists at each index to handle collisions.\n"
   ]
  },
  {
   "cell_type": "code",
   "execution_count": 9,
   "id": "a42b6e8e",
   "metadata": {},
   "outputs": [],
   "source": [
    "class HashTable:\n",
    "    def __init__(self):\n",
    "        self.table = [None] * 10\n",
    "\n",
    "    def hash_function(self, key):\n",
    "        return hash(key) % len(self.table)\n",
    "\n",
    "    def insert(self, key, value):\n",
    "        index = self.hash_function(key)\n",
    "        self.table[index] = value\n",
    "\n",
    "    def search(self, key):\n",
    "        index = self.hash_function(key)\n",
    "        return self.table[index]"
   ]
  },
  {
   "cell_type": "markdown",
   "id": "598050f9",
   "metadata": {},
   "source": [
    "### 10. Tries (Prefix Trees)\n",
    "\n",
    "Definition: A tree-like data structure used to store associative data structures, particularly strings.\n",
    "\n",
    "Characteristics: Efficient for search operations involving prefixes, with time complexity proportional to the length of the string.\n",
    "\n",
    "Visualization\n",
    "Visualize a trie as a tree where each node represents a character in a string, with paths representing different strings.\n",
    "\n",
    "\n",
    "Solve Problems\n",
    "Example: Auto-complete system.\n",
    "Solution: Use a trie to store a dictionary of words and find all words with a given prefix."
   ]
  },
  {
   "cell_type": "code",
   "execution_count": 10,
   "id": "bf878cd8",
   "metadata": {},
   "outputs": [],
   "source": [
    "class TrieNode:\n",
    "    def __init__(self):\n",
    "        self.children = {}\n",
    "        self.is_end_of_word = False\n",
    "\n",
    "class Trie:\n",
    "    def __init__(self):\n",
    "        self.root = TrieNode()\n",
    "\n",
    "    def insert(self, word):\n",
    "        node = self.root\n",
    "        for char in word:\n",
    "            if char not in node.children:\n",
    "                node.children[char] = TrieNode()\n",
    "            node = node.children[char]\n",
    "        node.is_end_of_word = True\n",
    "\n",
    "    def search(self, word):\n",
    "        node = self.root\n",
    "        for char in word:\n",
    "            if char not in node.children:\n",
    "                return False\n",
    "            node = node.children[char]\n",
    "        return node.is_end_of_word"
   ]
  },
  {
   "cell_type": "markdown",
   "id": "7da2745f",
   "metadata": {},
   "source": [
    "### 11. Bloom Filters\n",
    "\n",
    "Definition: A space-efficient probabilistic data structure used to test whether an element is part of a set.\n",
    "\n",
    "Characteristics: May return false positives but never false negatives, with space complexity much smaller than traditional data structures.\n",
    "\n",
    "Visualization\n",
    "Visualize a bloom filter as a bit array with multiple hash functions determining positions in the array.\n",
    "\n",
    "\n",
    "Solve Problems\n",
    "Example: Implement a simple bloom filter for a set of URLs.\n",
    "Solution: Use a bloom filter to track whether a URL has been visited.\n"
   ]
  },
  {
   "cell_type": "code",
   "execution_count": 11,
   "id": "21b7a4e4",
   "metadata": {},
   "outputs": [],
   "source": [
    "import hashlib\n",
    "\n",
    "class BloomFilter:\n",
    "    def __init__(self, size):\n",
    "        self.size = size\n",
    "        self.bit_array = [0] * size\n",
    "        self.hash_count = 3\n",
    "\n",
    "    def add(self, item):\n",
    "        for i in range(self.hash_count):\n",
    "            index = self.hash(item, i)\n",
    "            self.bit_array[index] = 1\n",
    "\n",
    "    def check(self, item):\n",
    "        for i in range(self.hash_count):\n",
    "            index = self.hash(item, i)\n",
    "            if self.bit_array[index] == 0:\n",
    "                return False\n",
    "        return True\n",
    "\n",
    "    def hash(self, item, seed):\n",
    "        return int(hashlib.md5(item.encode() + str(seed).encode()).hexdigest(), 16) % self.size"
   ]
  },
  {
   "cell_type": "markdown",
   "id": "498b3fdd",
   "metadata": {},
   "source": [
    "### 12. B-Trees\n",
    "\n",
    "Definition: A self-balancing tree data structure that maintains sorted data and allows searches, sequential access, insertions, and deletions in logarithmic time.\n",
    "\n",
    "Characteristics: Nodes can have multiple children and keys, commonly used in databases.\n",
    "\n",
    "Visualization\n",
    "Visualize a B-tree as a tree where each node can contain multiple keys, with children nodes having values between the keys.\n",
    "\n",
    "Solve Problems\n",
    "Example: Insert a sequence of keys into a B-tree and ensure it remains balanced.\n",
    "Solution: Implement the B-tree insertion and splitting logic."
   ]
  },
  {
   "cell_type": "code",
   "execution_count": 12,
   "id": "d4f1ec31",
   "metadata": {},
   "outputs": [],
   "source": [
    "class BTreeNode:\n",
    "    def __init__(self, t):\n",
    "        self.keys = []\n",
    "        self.children = []\n",
    "        self.leaf = True\n",
    "        self.t = t  # Minimum degree (defines the range for the number of keys)\n",
    "\n",
    "    def insert_non_full(self, k):\n",
    "        # Implementation for B-Tree insertion in non-full nodes\n",
    "        pass\n",
    "\n",
    "    def split_child(self, i, y):\n",
    "        # Implementation for B-Tree node splitting\n",
    "        pass\n",
    "\n",
    "class BTree:\n",
    "    def __init__(self, t):\n",
    "        self.root = BTreeNode(t)\n",
    "        self.t = t\n",
    "\n",
    "    def insert(self, k):\n",
    "        # Implementation for B-Tree insertion\n",
    "        pass"
   ]
  },
  {
   "cell_type": "markdown",
   "id": "d5e29cee",
   "metadata": {},
   "source": [
    "### 13. Priority Queues\n",
    "\n",
    "Definition: An abstract data type where each element is associated with a priority, and elements are served based on their priority.\n",
    "\n",
    "Characteristics: Can be implemented using heaps for efficient priority management.\n",
    "\n",
    "Visualization\n",
    "Visualize a priority queue as a queue where elements with higher priority are dequeued before others.\n",
    "\n",
    "Solve Problems\n",
    "Example: Implement Dijkstra's algorithm using a priority queue.\n",
    "Solution: Use a priority queue to keep track of the shortest path estimates.\n"
   ]
  },
  {
   "cell_type": "code",
   "execution_count": 13,
   "id": "cd1f4c6f",
   "metadata": {},
   "outputs": [],
   "source": [
    "import heapq\n",
    "class PriorityQueue:\n",
    "    def __init__(self):\n",
    "        self.queue = []\n",
    "\n",
    "    def enqueue(self, item, priority):\n",
    "        heapq.heappush(self.queue, (priority, item))\n",
    "\n",
    "    def dequeue(self):\n",
    "        return heapq.heappop(self.queue)[1]"
   ]
  },
  {
   "cell_type": "markdown",
   "id": "dbb5098c",
   "metadata": {},
   "source": [
    "### 14. Disjoint Set (Union-Find)\n",
    "\n",
    "Definition: A data structure that keeps track of a partition of a set into disjoint (non-overlapping) subsets.\n",
    "\n",
    "Characteristics: Supports union and find operations efficiently, commonly used in network connectivity and Kruskal's algorithm.\n",
    "\n",
    "Visualization\n",
    "Visualize disjoint sets as separate groups of items, with union operations merging groups and find operations identifying which group an item belongs to.\n",
    "\n",
    "Solve Problems\n",
    "Example: Detect cycles in an undirected graph using the union-find algorithm.\n",
    "Solution: Use the union-find structure to check if adding an edge creates a cycle.\n"
   ]
  },
  {
   "cell_type": "code",
   "execution_count": 14,
   "id": "b20591c3",
   "metadata": {},
   "outputs": [],
   "source": [
    "class DisjointSet:\n",
    "    def __init__(self, n):\n",
    "        self.parent = list(range(n))\n",
    "        self.rank = [0] * n\n",
    "\n",
    "    def find(self, x):\n",
    "        if self.parent[x] != x:\n",
    "            self.parent[x] = self.find(self.parent[x])\n",
    "        return self.parent[x]\n",
    "\n",
    "    def union(self, x, y):\n",
    "        rootX = self.find(x)\n",
    "        rootY = self.find(y)\n",
    "        if rootX != rootY:\n",
    "            if self.rank[rootX] > self.rank[rootY]:\n",
    "                self.parent[rootY] = rootX\n",
    "            elif self.rank[rootX] < self.rank[rootY]:\n",
    "                self.parent[rootX] = rootY\n",
    "            else:\n",
    "                self.parent[rootY] = rootX\n",
    "                self.rank[rootX] += 1"
   ]
  },
  {
   "cell_type": "markdown",
   "id": "b8dbd358",
   "metadata": {},
   "source": [
    "### 15. Hash Maps\n",
    "\n",
    "Definition: A data structure that implements an associative array, mapping keys to values.\n",
    "\n",
    "Characteristics: Provides average O(1) time complexity for operations like insert, delete, and search.\n",
    "\n",
    "Visualization\n",
    "Visualize a hash map as an array of buckets, with keys mapped to buckets using a hash function.\n",
    "\n",
    "\n",
    "Solve Problems\n",
    "Example: Implement a simple hash map with collision handling.\n",
    "Solution: Use chaining or open addressing to resolve collisions."
   ]
  },
  {
   "cell_type": "code",
   "execution_count": 15,
   "id": "70ac8a95",
   "metadata": {},
   "outputs": [],
   "source": [
    "class HashMap:\n",
    "    def __init__(self):\n",
    "        self.size = 100\n",
    "        self.table = [None] * self.size\n",
    "\n",
    "    def hash_function(self, key):\n",
    "        return hash(key) % self.size\n",
    "\n",
    "    def insert(self, key, value):\n",
    "        index = self.hash_function(key)\n",
    "        self.table[index] = value\n",
    "\n",
    "    def get(self, key):\n",
    "        index = self.hash_function(key)\n",
    "        return self.table[index]"
   ]
  },
  {
   "cell_type": "code",
   "execution_count": null,
   "id": "24a4582f",
   "metadata": {},
   "outputs": [],
   "source": []
  },
  {
   "cell_type": "code",
   "execution_count": null,
   "id": "1508362a",
   "metadata": {},
   "outputs": [],
   "source": []
  }
 ],
 "metadata": {
  "kernelspec": {
   "display_name": "Python 3 (ipykernel)",
   "language": "python",
   "name": "python3"
  },
  "language_info": {
   "codemirror_mode": {
    "name": "ipython",
    "version": 3
   },
   "file_extension": ".py",
   "mimetype": "text/x-python",
   "name": "python",
   "nbconvert_exporter": "python",
   "pygments_lexer": "ipython3",
   "version": "3.11.5"
  }
 },
 "nbformat": 4,
 "nbformat_minor": 5
}
